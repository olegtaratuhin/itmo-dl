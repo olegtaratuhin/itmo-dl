{
 "cells": [
  {
   "cell_type": "markdown",
   "metadata": {},
   "source": [
    "# Turi experiments"
   ]
  },
  {
   "cell_type": "markdown",
   "metadata": {},
   "source": [
    "This notebook has some code from official documentation samples"
   ]
  },
  {
   "cell_type": "code",
   "execution_count": 2,
   "metadata": {},
   "outputs": [],
   "source": [
    "import turicreate as tc\n",
    "import pathlib"
   ]
  },
  {
   "cell_type": "markdown",
   "metadata": {},
   "source": [
    "**Load images**"
   ]
  },
  {
   "cell_type": "code",
   "execution_count": 3,
   "metadata": {},
   "outputs": [
    {
     "name": "stdout",
     "output_type": "stream",
     "text": [
      "\u001b[1m\u001b[36mcontent-images\u001b[m\u001b[m \u001b[1m\u001b[36msample-images\u001b[m\u001b[m  \u001b[1m\u001b[36mstyle-images\u001b[m\u001b[m\n"
     ]
    }
   ],
   "source": [
    "!ls ../../data"
   ]
  },
  {
   "cell_type": "code",
   "execution_count": 4,
   "metadata": {},
   "outputs": [
    {
     "data": {
      "text/html": [
       "<pre>Read 3399 images in 5.00083 secs\tspeed: 679.687 file/sec</pre>"
      ],
      "text/plain": [
       "Read 3399 images in 5.00083 secs\tspeed: 679.687 file/sec"
      ]
     },
     "metadata": {},
     "output_type": "display_data"
    },
    {
     "data": {
      "text/html": [
       "<pre>Read 7006 images in 10.0016 secs\tspeed: 721.296 file/sec</pre>"
      ],
      "text/plain": [
       "Read 7006 images in 10.0016 secs\tspeed: 721.296 file/sec"
      ]
     },
     "metadata": {},
     "output_type": "display_data"
    },
    {
     "data": {
      "text/html": [
       "<pre>Read 10510 images in 15.0146 secs\tspeed: 698.977 file/sec</pre>"
      ],
      "text/plain": [
       "Read 10510 images in 15.0146 secs\tspeed: 698.977 file/sec"
      ]
     },
     "metadata": {},
     "output_type": "display_data"
    },
    {
     "data": {
      "text/html": [
       "<pre>Read 13292 images in 20.0147 secs\tspeed: 556.392 file/sec</pre>"
      ],
      "text/plain": [
       "Read 13292 images in 20.0147 secs\tspeed: 556.392 file/sec"
      ]
     },
     "metadata": {},
     "output_type": "display_data"
    },
    {
     "data": {
      "text/html": [
       "<pre>Read 16791 images in 25.0154 secs\tspeed: 699.698 file/sec</pre>"
      ],
      "text/plain": [
       "Read 16791 images in 25.0154 secs\tspeed: 699.698 file/sec"
      ]
     },
     "metadata": {},
     "output_type": "display_data"
    },
    {
     "data": {
      "text/html": [
       "<pre>Read 20263 images in 30.0166 secs\tspeed: 694.229 file/sec</pre>"
      ],
      "text/plain": [
       "Read 20263 images in 30.0166 secs\tspeed: 694.229 file/sec"
      ]
     },
     "metadata": {},
     "output_type": "display_data"
    },
    {
     "data": {
      "text/html": [
       "<pre>Read 23711 images in 35.017 secs\tspeed: 689.542 file/sec</pre>"
      ],
      "text/plain": [
       "Read 23711 images in 35.017 secs\tspeed: 689.542 file/sec"
      ]
     },
     "metadata": {},
     "output_type": "display_data"
    },
    {
     "data": {
      "text/html": [
       "<pre>Read 26160 images in 44.9211 secs\tspeed: 247.272 file/sec</pre>"
      ],
      "text/plain": [
       "Read 26160 images in 44.9211 secs\tspeed: 247.272 file/sec"
      ]
     },
     "metadata": {},
     "output_type": "display_data"
    },
    {
     "data": {
      "text/html": [
       "<pre>Read 28576 images in 49.9235 secs\tspeed: 482.974 file/sec</pre>"
      ],
      "text/plain": [
       "Read 28576 images in 49.9235 secs\tspeed: 482.974 file/sec"
      ]
     },
     "metadata": {},
     "output_type": "display_data"
    },
    {
     "data": {
      "text/html": [
       "<pre>Read 30842 images in 54.9235 secs\tspeed: 453.195 file/sec</pre>"
      ],
      "text/plain": [
       "Read 30842 images in 54.9235 secs\tspeed: 453.195 file/sec"
      ]
     },
     "metadata": {},
     "output_type": "display_data"
    },
    {
     "data": {
      "text/html": [
       "<pre>Read 33377 images in 59.925 secs\tspeed: 506.845 file/sec</pre>"
      ],
      "text/plain": [
       "Read 33377 images in 59.925 secs\tspeed: 506.845 file/sec"
      ]
     },
     "metadata": {},
     "output_type": "display_data"
    },
    {
     "data": {
      "text/html": [
       "<pre>Read 35632 images in 64.9359 secs\tspeed: 450.027 file/sec</pre>"
      ],
      "text/plain": [
       "Read 35632 images in 64.9359 secs\tspeed: 450.027 file/sec"
      ]
     },
     "metadata": {},
     "output_type": "display_data"
    },
    {
     "data": {
      "text/html": [
       "<pre>Read 38009 images in 69.9361 secs\tspeed: 475.379 file/sec</pre>"
      ],
      "text/plain": [
       "Read 38009 images in 69.9361 secs\tspeed: 475.379 file/sec"
      ]
     },
     "metadata": {},
     "output_type": "display_data"
    },
    {
     "data": {
      "text/html": [
       "<pre>Read 40753 images in 74.9375 secs\tspeed: 548.649 file/sec</pre>"
      ],
      "text/plain": [
       "Read 40753 images in 74.9375 secs\tspeed: 548.649 file/sec"
      ]
     },
     "metadata": {},
     "output_type": "display_data"
    },
    {
     "data": {
      "text/html": [
       "<pre>Read 43111 images in 79.9376 secs\tspeed: 471.591 file/sec</pre>"
      ],
      "text/plain": [
       "Read 43111 images in 79.9376 secs\tspeed: 471.591 file/sec"
      ]
     },
     "metadata": {},
     "output_type": "display_data"
    },
    {
     "data": {
      "text/html": [
       "<pre>Read 45547 images in 84.9668 secs\tspeed: 484.366 file/sec</pre>"
      ],
      "text/plain": [
       "Read 45547 images in 84.9668 secs\tspeed: 484.366 file/sec"
      ]
     },
     "metadata": {},
     "output_type": "display_data"
    },
    {
     "data": {
      "text/html": [
       "<pre>Read 48032 images in 89.9679 secs\tspeed: 496.891 file/sec</pre>"
      ],
      "text/plain": [
       "Read 48032 images in 89.9679 secs\tspeed: 496.891 file/sec"
      ]
     },
     "metadata": {},
     "output_type": "display_data"
    },
    {
     "data": {
      "text/html": [
       "<pre>Read 50528 images in 94.968 secs\tspeed: 499.19 file/sec</pre>"
      ],
      "text/plain": [
       "Read 50528 images in 94.968 secs\tspeed: 499.19 file/sec"
      ]
     },
     "metadata": {},
     "output_type": "display_data"
    },
    {
     "data": {
      "text/html": [
       "<pre>Read 53170 images in 99.9699 secs\tspeed: 528.196 file/sec</pre>"
      ],
      "text/plain": [
       "Read 53170 images in 99.9699 secs\tspeed: 528.196 file/sec"
      ]
     },
     "metadata": {},
     "output_type": "display_data"
    },
    {
     "data": {
      "text/html": [
       "<pre>Read 55801 images in 104.972 secs\tspeed: 525.938 file/sec</pre>"
      ],
      "text/plain": [
       "Read 55801 images in 104.972 secs\tspeed: 525.938 file/sec"
      ]
     },
     "metadata": {},
     "output_type": "display_data"
    },
    {
     "data": {
      "text/html": [
       "<pre>Read 58272 images in 109.975 secs\tspeed: 493.979 file/sec</pre>"
      ],
      "text/plain": [
       "Read 58272 images in 109.975 secs\tspeed: 493.979 file/sec"
      ]
     },
     "metadata": {},
     "output_type": "display_data"
    },
    {
     "data": {
      "text/html": [
       "<pre>Read 61340 images in 114.976 secs\tspeed: 613.448 file/sec</pre>"
      ],
      "text/plain": [
       "Read 61340 images in 114.976 secs\tspeed: 613.448 file/sec"
      ]
     },
     "metadata": {},
     "output_type": "display_data"
    },
    {
     "data": {
      "text/html": [
       "<pre>Read 64291 images in 119.976 secs\tspeed: 590.133 file/sec</pre>"
      ],
      "text/plain": [
       "Read 64291 images in 119.976 secs\tspeed: 590.133 file/sec"
      ]
     },
     "metadata": {},
     "output_type": "display_data"
    },
    {
     "data": {
      "text/html": [
       "<pre>Read 67170 images in 124.977 secs\tspeed: 575.695 file/sec</pre>"
      ],
      "text/plain": [
       "Read 67170 images in 124.977 secs\tspeed: 575.695 file/sec"
      ]
     },
     "metadata": {},
     "output_type": "display_data"
    },
    {
     "data": {
      "text/html": [
       "<pre>Read 69881 images in 129.984 secs\tspeed: 541.47 file/sec</pre>"
      ],
      "text/plain": [
       "Read 69881 images in 129.984 secs\tspeed: 541.47 file/sec"
      ]
     },
     "metadata": {},
     "output_type": "display_data"
    },
    {
     "data": {
      "text/html": [
       "<pre>Read 72367 images in 134.985 secs\tspeed: 497.139 file/sec</pre>"
      ],
      "text/plain": [
       "Read 72367 images in 134.985 secs\tspeed: 497.139 file/sec"
      ]
     },
     "metadata": {},
     "output_type": "display_data"
    },
    {
     "data": {
      "text/html": [
       "<pre>Read 74840 images in 139.986 secs\tspeed: 494.523 file/sec</pre>"
      ],
      "text/plain": [
       "Read 74840 images in 139.986 secs\tspeed: 494.523 file/sec"
      ]
     },
     "metadata": {},
     "output_type": "display_data"
    },
    {
     "data": {
      "text/html": [
       "<pre>Read 77271 images in 144.986 secs\tspeed: 486.193 file/sec</pre>"
      ],
      "text/plain": [
       "Read 77271 images in 144.986 secs\tspeed: 486.193 file/sec"
      ]
     },
     "metadata": {},
     "output_type": "display_data"
    },
    {
     "data": {
      "text/html": [
       "<pre>Read 79728 images in 149.989 secs\tspeed: 491.025 file/sec</pre>"
      ],
      "text/plain": [
       "Read 79728 images in 149.989 secs\tspeed: 491.025 file/sec"
      ]
     },
     "metadata": {},
     "output_type": "display_data"
    },
    {
     "data": {
      "text/html": [
       "<pre>Read 82116 images in 154.991 secs\tspeed: 477.488 file/sec</pre>"
      ],
      "text/plain": [
       "Read 82116 images in 154.991 secs\tspeed: 477.488 file/sec"
      ]
     },
     "metadata": {},
     "output_type": "display_data"
    },
    {
     "data": {
      "text/html": [
       "<pre>Read 84592 images in 159.992 secs\tspeed: 495.058 file/sec</pre>"
      ],
      "text/plain": [
       "Read 84592 images in 159.992 secs\tspeed: 495.058 file/sec"
      ]
     },
     "metadata": {},
     "output_type": "display_data"
    },
    {
     "data": {
      "text/html": [
       "<pre>Read 87228 images in 164.993 secs\tspeed: 527.112 file/sec</pre>"
      ],
      "text/plain": [
       "Read 87228 images in 164.993 secs\tspeed: 527.112 file/sec"
      ]
     },
     "metadata": {},
     "output_type": "display_data"
    },
    {
     "data": {
      "text/html": [
       "<pre>Read 89763 images in 169.994 secs\tspeed: 506.934 file/sec</pre>"
      ],
      "text/plain": [
       "Read 89763 images in 169.994 secs\tspeed: 506.934 file/sec"
      ]
     },
     "metadata": {},
     "output_type": "display_data"
    },
    {
     "data": {
      "text/html": [
       "<pre>Read 92503 images in 174.994 secs\tspeed: 547.892 file/sec</pre>"
      ],
      "text/plain": [
       "Read 92503 images in 174.994 secs\tspeed: 547.892 file/sec"
      ]
     },
     "metadata": {},
     "output_type": "display_data"
    },
    {
     "data": {
      "text/html": [
       "<pre>Read 95161 images in 179.996 secs\tspeed: 531.443 file/sec</pre>"
      ],
      "text/plain": [
       "Read 95161 images in 179.996 secs\tspeed: 531.443 file/sec"
      ]
     },
     "metadata": {},
     "output_type": "display_data"
    },
    {
     "data": {
      "text/html": [
       "<pre>Read 98036 images in 184.997 secs\tspeed: 574.913 file/sec</pre>"
      ],
      "text/plain": [
       "Read 98036 images in 184.997 secs\tspeed: 574.913 file/sec"
      ]
     },
     "metadata": {},
     "output_type": "display_data"
    },
    {
     "data": {
      "text/html": [
       "<pre>Read 100863 images in 189.997 secs\tspeed: 565.333 file/sec</pre>"
      ],
      "text/plain": [
       "Read 100863 images in 189.997 secs\tspeed: 565.333 file/sec"
      ]
     },
     "metadata": {},
     "output_type": "display_data"
    },
    {
     "data": {
      "text/html": [
       "<pre>Read 103876 images in 194.998 secs\tspeed: 602.56 file/sec</pre>"
      ],
      "text/plain": [
       "Read 103876 images in 194.998 secs\tspeed: 602.56 file/sec"
      ]
     },
     "metadata": {},
     "output_type": "display_data"
    },
    {
     "data": {
      "text/html": [
       "<pre>Read 106778 images in 199.999 secs\tspeed: 580.28 file/sec</pre>"
      ],
      "text/plain": [
       "Read 106778 images in 199.999 secs\tspeed: 580.28 file/sec"
      ]
     },
     "metadata": {},
     "output_type": "display_data"
    },
    {
     "data": {
      "text/html": [
       "<pre>Read 108768 images in 205.008 secs\tspeed: 397.254 file/sec</pre>"
      ],
      "text/plain": [
       "Read 108768 images in 205.008 secs\tspeed: 397.254 file/sec"
      ]
     },
     "metadata": {},
     "output_type": "display_data"
    },
    {
     "data": {
      "text/html": [
       "<pre>Read 110461 images in 210.01 secs\tspeed: 338.472 file/sec</pre>"
      ],
      "text/plain": [
       "Read 110461 images in 210.01 secs\tspeed: 338.472 file/sec"
      ]
     },
     "metadata": {},
     "output_type": "display_data"
    },
    {
     "data": {
      "text/html": [
       "<pre>Read 112041 images in 215.013 secs\tspeed: 315.813 file/sec</pre>"
      ],
      "text/plain": [
       "Read 112041 images in 215.013 secs\tspeed: 315.813 file/sec"
      ]
     },
     "metadata": {},
     "output_type": "display_data"
    },
    {
     "data": {
      "text/html": [
       "<pre>Read 113520 images in 220.018 secs\tspeed: 295.51 file/sec</pre>"
      ],
      "text/plain": [
       "Read 113520 images in 220.018 secs\tspeed: 295.51 file/sec"
      ]
     },
     "metadata": {},
     "output_type": "display_data"
    },
    {
     "data": {
      "text/html": [
       "<pre>Read 115028 images in 225.02 secs\tspeed: 301.492 file/sec</pre>"
      ],
      "text/plain": [
       "Read 115028 images in 225.02 secs\tspeed: 301.492 file/sec"
      ]
     },
     "metadata": {},
     "output_type": "display_data"
    },
    {
     "data": {
      "text/html": [
       "<pre>Read 116523 images in 230.021 secs\tspeed: 298.933 file/sec</pre>"
      ],
      "text/plain": [
       "Read 116523 images in 230.021 secs\tspeed: 298.933 file/sec"
      ]
     },
     "metadata": {},
     "output_type": "display_data"
    },
    {
     "data": {
      "text/html": [
       "<pre>Read 118152 images in 235.036 secs\tspeed: 324.797 file/sec</pre>"
      ],
      "text/plain": [
       "Read 118152 images in 235.036 secs\tspeed: 324.797 file/sec"
      ]
     },
     "metadata": {},
     "output_type": "display_data"
    },
    {
     "data": {
      "text/html": [
       "<pre>Read 119657 images in 240.038 secs\tspeed: 300.876 file/sec</pre>"
      ],
      "text/plain": [
       "Read 119657 images in 240.038 secs\tspeed: 300.876 file/sec"
      ]
     },
     "metadata": {},
     "output_type": "display_data"
    },
    {
     "data": {
      "text/html": [
       "<pre>Read 121200 images in 245.042 secs\tspeed: 308.342 file/sec</pre>"
      ],
      "text/plain": [
       "Read 121200 images in 245.042 secs\tspeed: 308.342 file/sec"
      ]
     },
     "metadata": {},
     "output_type": "display_data"
    },
    {
     "data": {
      "text/html": [
       "<pre>Read 122688 images in 250.047 secs\tspeed: 297.347 file/sec</pre>"
      ],
      "text/plain": [
       "Read 122688 images in 250.047 secs\tspeed: 297.347 file/sec"
      ]
     },
     "metadata": {},
     "output_type": "display_data"
    },
    {
     "data": {
      "text/html": [
       "<pre>Read 124480 images in 255.07 secs\tspeed: 356.711 file/sec</pre>"
      ],
      "text/plain": [
       "Read 124480 images in 255.07 secs\tspeed: 356.711 file/sec"
      ]
     },
     "metadata": {},
     "output_type": "display_data"
    },
    {
     "data": {
      "text/html": [
       "<pre>Unsupported colorspace format. Currently, only RGB and Grayscale are supported.\t file: /Users/olegtaratuhin/Code/itmo/semester3/DL/itmo-dl/models/data/sample-images/landscapes/00000051_(3).jpg</pre>"
      ],
      "text/plain": [
       "Unsupported colorspace format. Currently, only RGB and Grayscale are supported.\t file: /Users/olegtaratuhin/Code/itmo/semester3/DL/itmo-dl/models/data/sample-images/landscapes/00000051_(3).jpg"
      ]
     },
     "metadata": {},
     "output_type": "display_data"
    },
    {
     "data": {
      "text/html": [
       "<pre>Read 4432 images in 5.00101 secs\tspeed: 886.22 file/sec</pre>"
      ],
      "text/plain": [
       "Read 4432 images in 5.00101 secs\tspeed: 886.22 file/sec"
      ]
     },
     "metadata": {},
     "output_type": "display_data"
    }
   ],
   "source": [
    "data = pathlib.Path(\"../../data/\")\n",
    "\n",
    "style_path = str(data / \"style-images\")\n",
    "content_path = str(data / \"content-images\")\n",
    "validation_path = str(data / \"sample-images\")\n",
    "\n",
    "styles = tc.load_images(style_path)\n",
    "content = tc.load_images(content_path)\n",
    "validation = tc.load_images(validation_path)"
   ]
  },
  {
   "cell_type": "markdown",
   "metadata": {},
   "source": [
    "**Train style transfer model**"
   ]
  },
  {
   "cell_type": "code",
   "execution_count": null,
   "metadata": {},
   "outputs": [],
   "source": [
    "model = tc.style_transfer.create(styles, content)"
   ]
  },
  {
   "cell_type": "markdown",
   "metadata": {},
   "source": [
    "**Save model**"
   ]
  },
  {
   "cell_type": "code",
   "execution_count": null,
   "metadata": {},
   "outputs": [],
   "source": [
    "experiment = \"0015\"\n",
    "experiments_path = pathlib.Path(f\"experiments/{experiment}\")\n",
    "\n",
    "model_path = str(experiments_path / f\"{experiment}_model.model\")\n",
    "coreml_path = str(experiments_path / f\"{experiment}_model.mlmodel\")\n",
    "\n",
    "model.save(model_path)\n",
    "model.export_coreml(coreml_path)"
   ]
  },
  {
   "cell_type": "markdown",
   "metadata": {},
   "source": [
    "**View results**"
   ]
  },
  {
   "cell_type": "code",
   "execution_count": null,
   "metadata": {},
   "outputs": [],
   "source": [
    "stylized_images = model.stylize(test_images, max_size=4, style=[0, 1])"
   ]
  }
 ],
 "metadata": {
  "kernelspec": {
   "display_name": "Python 3",
   "language": "python",
   "name": "python3"
  },
  "language_info": {
   "codemirror_mode": {
    "name": "ipython",
    "version": 3
   },
   "file_extension": ".py",
   "mimetype": "text/x-python",
   "name": "python",
   "nbconvert_exporter": "python",
   "pygments_lexer": "ipython3",
   "version": "3.7.7"
  }
 },
 "nbformat": 4,
 "nbformat_minor": 4
}
